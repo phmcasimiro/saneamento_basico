{
  "nbformat": 4,
  "nbformat_minor": 0,
  "metadata": {
    "colab": {
      "name": "python_ds_1.ipynb",
      "provenance": [],
      "authorship_tag": "ABX9TyM6yxCcttJQlkOfFLqz5Qjm",
      "include_colab_link": true
    },
    "kernelspec": {
      "name": "python3",
      "display_name": "Python 3"
    },
    "language_info": {
      "name": "python"
    }
  },
  "cells": [
    {
      "cell_type": "markdown",
      "metadata": {
        "id": "view-in-github",
        "colab_type": "text"
      },
      "source": [
        "<a href=\"https://colab.research.google.com/github/phmcasimiro/saneamento_basico/blob/main/saneamento_basico1.ipynb\" target=\"_parent\"><img src=\"https://colab.research.google.com/assets/colab-badge.svg\" alt=\"Open In Colab\"/></a>"
      ]
    },
    {
      "cell_type": "markdown",
      "source": [
        "# Notebook Python para Data Sciency"
      ],
      "metadata": {
        "id": "SRFZ52YKWgPq"
      }
    },
    {
      "cell_type": "code",
      "source": [
        ""
      ],
      "metadata": {
        "id": "QZlakl2fWiJu"
      },
      "execution_count": null,
      "outputs": []
    }
  ]
}